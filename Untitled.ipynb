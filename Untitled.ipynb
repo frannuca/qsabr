{
 "cells": [
  {
   "cell_type": "code",
   "execution_count": 1,
   "id": "08f0eb6a",
   "metadata": {},
   "outputs": [],
   "source": [
    "import pandas as pd"
   ]
  },
  {
   "cell_type": "code",
   "execution_count": 2,
   "id": "3ce2daca",
   "metadata": {},
   "outputs": [],
   "source": [
    "frame = pd.read_csv('/Users/fran/code/qsabr/data/market_data.csv')"
   ]
  },
  {
   "cell_type": "code",
   "execution_count": 14,
   "id": "3c3a4e4e",
   "metadata": {},
   "outputs": [],
   "source": [
    "idvars = [c for c in frame.columns if c not in [\"Tenor\",\"Expiry\",\"Fwd\"]]\n",
    "framep = frame.melt(id_vars=[\"Tenor\",\"Expiry\",\"Fwd\"],value_vars=idvars,var_name='Strike',value_name='Vol')"
   ]
  },
  {
   "cell_type": "code",
   "execution_count": 16,
   "id": "c8d5d5dc",
   "metadata": {},
   "outputs": [],
   "source": [
    "framep.dropna().to_csv(\"./volsurface.csv\")"
   ]
  },
  {
   "cell_type": "code",
   "execution_count": null,
   "id": "197d8e40",
   "metadata": {},
   "outputs": [],
   "source": []
  }
 ],
 "metadata": {
  "kernelspec": {
   "display_name": "Python 3 (ipykernel)",
   "language": "python",
   "name": "python3"
  },
  "language_info": {
   "codemirror_mode": {
    "name": "ipython",
    "version": 3
   },
   "file_extension": ".py",
   "mimetype": "text/x-python",
   "name": "python",
   "nbconvert_exporter": "python",
   "pygments_lexer": "ipython3",
   "version": "3.10.9"
  }
 },
 "nbformat": 4,
 "nbformat_minor": 5
}
